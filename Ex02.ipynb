{
  "nbformat": 4,
  "nbformat_minor": 0,
  "metadata": {
    "colab": {
      "provenance": [],
      "collapsed_sections": []
    },
    "kernelspec": {
      "name": "python3",
      "display_name": "Python 3"
    },
    "language_info": {
      "name": "python"
    }
  },
  "cells": [
    {
      "cell_type": "code",
      "source": [
        "import pandas as pd\n",
        "from sklearn.model_selection import train_test_split\n",
        "from tensorflow.keras.models import Sequential\n",
        "from tensorflow.keras.layers import Dense\n",
        "import tensorflow as tf\n",
        "import seaborn as sns\n",
        "from tensorflow.keras.callbacks import EarlyStopping\n",
        "from sklearn.preprocessing import MinMaxScaler\n",
        "from sklearn.preprocessing import LabelEncoder\n",
        "from sklearn.preprocessing import OneHotEncoder\n",
        "from sklearn.preprocessing import OrdinalEncoder\n",
        "from sklearn.metrics import classification_report,confusion_matrix\n",
        "import numpy as np"
      ],
      "metadata": {
        "id": "bJ3XTElRk8sG"
      },
      "execution_count": null,
      "outputs": []
    },
    {
      "cell_type": "code",
      "source": [
        "customer_df = pd.read_csv('customers.csv')"
      ],
      "metadata": {
        "id": "ZNjUGCzqk_XM"
      },
      "execution_count": null,
      "outputs": []
    },
    {
      "cell_type": "markdown",
      "source": [
        "An automobile company has plans to enter new markets with their existing products. After intensive market research, they’ve decided that the behavior of the new market is similar to their existing market.\n",
        "\n",
        "In their existing market, the sales team has classified all customers into 4 segments (A, B, C, D ). Then, they performed segmented outreach and communication for a different segment of customers. This strategy has work exceptionally well for them. They plan to use the same strategy for the new markets.\n",
        "\n",
        "You are required to help the manager to predict the right group of the new customers."
      ],
      "metadata": {
        "id": "bNBGQ7ugpQg6"
      }
    },
    {
      "cell_type": "markdown",
      "source": [
        "## Data Exploration"
      ],
      "metadata": {
        "id": "0yKzMCfonnyH"
      }
    },
    {
      "cell_type": "code",
      "source": [
        "customer_df.columns"
      ],
      "metadata": {
        "id": "TPZNqbLDl24D"
      },
      "execution_count": null,
      "outputs": []
    },
    {
      "cell_type": "code",
      "source": [
        "customer_df.dtypes"
      ],
      "metadata": {
        "id": "mjTGOx5xmU2l"
      },
      "execution_count": null,
      "outputs": []
    },
    {
      "cell_type": "code",
      "source": [
        "customer_df.shape"
      ],
      "metadata": {
        "id": "9KjcGQXqmxE1"
      },
      "execution_count": null,
      "outputs": []
    },
    {
      "cell_type": "code",
      "source": [
        "customer_df.isnull().sum()"
      ],
      "metadata": {
        "id": "DJlcuOP5mdkV"
      },
      "execution_count": null,
      "outputs": []
    },
    {
      "cell_type": "code",
      "source": [
        "customer_df_cleaned = customer_df.dropna(axis=0)"
      ],
      "metadata": {
        "id": "wRXZpLG8oGeE"
      },
      "execution_count": null,
      "outputs": []
    },
    {
      "cell_type": "code",
      "source": [
        "customer_df_cleaned.isnull().sum()"
      ],
      "metadata": {
        "id": "2ril3hqdoVvU"
      },
      "execution_count": null,
      "outputs": []
    },
    {
      "cell_type": "code",
      "source": [
        "customer_df_cleaned.shape"
      ],
      "metadata": {
        "id": "f91V-qAhobdk"
      },
      "execution_count": null,
      "outputs": []
    },
    {
      "cell_type": "code",
      "source": [
        "customer_df_cleaned.dtypes"
      ],
      "metadata": {
        "id": "t8OPwyF_r2d1"
      },
      "execution_count": null,
      "outputs": []
    },
    {
      "cell_type": "code",
      "source": [
        "customer_df_cleaned['Gender'].unique()"
      ],
      "metadata": {
        "id": "bM6v8-mAzUkr"
      },
      "execution_count": null,
      "outputs": []
    },
    {
      "cell_type": "code",
      "source": [
        "customer_df_cleaned['Ever_Married'].unique()"
      ],
      "metadata": {
        "id": "YBgUthpJymO0"
      },
      "execution_count": null,
      "outputs": []
    },
    {
      "cell_type": "code",
      "source": [
        "customer_df_cleaned['Graduated'].unique()"
      ],
      "metadata": {
        "id": "SMHVOK5izC3C"
      },
      "execution_count": null,
      "outputs": []
    },
    {
      "cell_type": "code",
      "source": [
        "customer_df_cleaned['Profession'].unique()"
      ],
      "metadata": {
        "id": "Heyh0f-8zc1b"
      },
      "execution_count": null,
      "outputs": []
    },
    {
      "cell_type": "code",
      "source": [
        "customer_df_cleaned['Spending_Score'].unique()"
      ],
      "metadata": {
        "id": "jOgI3AvCzxLU"
      },
      "execution_count": null,
      "outputs": []
    },
    {
      "cell_type": "code",
      "source": [
        "customer_df_cleaned['Var_1'].unique()"
      ],
      "metadata": {
        "id": "RFXw-Bp30F0j"
      },
      "execution_count": null,
      "outputs": []
    },
    {
      "cell_type": "code",
      "source": [
        "customer_df_cleaned['Segmentation'].unique()"
      ],
      "metadata": {
        "id": "QgyBx2_B0QPb"
      },
      "execution_count": null,
      "outputs": []
    },
    {
      "cell_type": "code",
      "source": [
        "categories_list=[['Male', 'Female'],\n",
        "           ['No', 'Yes'],\n",
        "           ['No', 'Yes'],\n",
        "           ['Healthcare', 'Engineer', 'Lawyer', 'Artist', 'Doctor',\n",
        "            'Homemaker', 'Entertainment', 'Marketing', 'Executive'],\n",
        "           ['Low', 'Average', 'High']\n",
        "           ]\n",
        "enc = OrdinalEncoder(categories=categories_list)"
      ],
      "metadata": {
        "id": "CxbYbHFj0a0E"
      },
      "execution_count": null,
      "outputs": []
    },
    {
      "cell_type": "code",
      "source": [
        "customers_1 = customer_df_cleaned.copy()"
      ],
      "metadata": {
        "id": "1uNtCwbW2A_s"
      },
      "execution_count": null,
      "outputs": []
    },
    {
      "cell_type": "code",
      "source": [
        "customers_1[['Gender',\n",
        "             'Ever_Married',\n",
        "              'Graduated','Profession',\n",
        "              'Spending_Score']] = enc.fit_transform(customers_1[['Gender',\n",
        "                                                                 'Ever_Married',\n",
        "                                                                 'Graduated','Profession',\n",
        "                                                                 'Spending_Score']])"
      ],
      "metadata": {
        "id": "rS9lezKn1PTk"
      },
      "execution_count": null,
      "outputs": []
    },
    {
      "cell_type": "code",
      "source": [
        "customers_1.dtypes"
      ],
      "metadata": {
        "id": "YMyqmQXy4dWM"
      },
      "execution_count": null,
      "outputs": []
    },
    {
      "cell_type": "code",
      "source": [
        "le = LabelEncoder()"
      ],
      "metadata": {
        "id": "8q4w0B--9Hts"
      },
      "execution_count": null,
      "outputs": []
    },
    {
      "cell_type": "code",
      "source": [
        "customers_1['Segmentation'] = le.fit_transform(customers_1['Segmentation'])"
      ],
      "metadata": {
        "id": "jJVTD6pY9PUr"
      },
      "execution_count": null,
      "outputs": []
    },
    {
      "cell_type": "code",
      "source": [
        "customers_1.dtypes"
      ],
      "metadata": {
        "id": "Uewr-HwX-B0M"
      },
      "execution_count": null,
      "outputs": []
    },
    {
      "cell_type": "code",
      "source": [
        "customers_1 = customers_1.drop('ID',axis=1)\n",
        "customers_1 = customers_1.drop('Var_1',axis=1)"
      ],
      "metadata": {
        "id": "Lu6OsQLU8zRb"
      },
      "execution_count": null,
      "outputs": []
    },
    {
      "cell_type": "code",
      "source": [
        "customers_1.dtypes"
      ],
      "metadata": {
        "id": "dXf-gjsf-ZAk"
      },
      "execution_count": null,
      "outputs": []
    },
    {
      "cell_type": "code",
      "source": [
        "# Calculate the correlation matrix\n",
        "corr = customers_1.corr()\n",
        "\n",
        "# Plot the heatmap\n",
        "sns.heatmap(corr, \n",
        "        xticklabels=corr.columns,\n",
        "        yticklabels=corr.columns,\n",
        "        cmap=\"BuPu\",\n",
        "        annot= True)"
      ],
      "metadata": {
        "id": "7jQG_lMooovc"
      },
      "execution_count": null,
      "outputs": []
    },
    {
      "cell_type": "code",
      "source": [
        "customers_1.describe()"
      ],
      "metadata": {
        "id": "arPEcICdpC4c"
      },
      "execution_count": null,
      "outputs": []
    },
    {
      "cell_type": "code",
      "source": [
        "customers_1['Segmentation'].unique()"
      ],
      "metadata": {
        "id": "QuUeD6ch_Wfs"
      },
      "execution_count": null,
      "outputs": []
    },
    {
      "cell_type": "code",
      "source": [
        "X=customers_1[['Gender','Ever_Married','Age','Graduated','Profession','Work_Experience','Spending_Score','Family_Size']].values"
      ],
      "metadata": {
        "id": "-J_YjTMJvtD8"
      },
      "execution_count": null,
      "outputs": []
    },
    {
      "cell_type": "code",
      "source": [
        "y1 = customers_1[['Segmentation']].values"
      ],
      "metadata": {
        "id": "ocTtyqEuvvBc"
      },
      "execution_count": null,
      "outputs": []
    },
    {
      "cell_type": "code",
      "source": [
        "one_hot_enc = OneHotEncoder()"
      ],
      "metadata": {
        "id": "pJ3_LQvWtpLV"
      },
      "execution_count": null,
      "outputs": []
    },
    {
      "cell_type": "code",
      "source": [
        "one_hot_enc.fit(y1)"
      ],
      "metadata": {
        "id": "g7liKwW6tsaU"
      },
      "execution_count": null,
      "outputs": []
    },
    {
      "cell_type": "code",
      "source": [
        "y1.shape"
      ],
      "metadata": {
        "id": "e9NIce00wWZ0"
      },
      "execution_count": null,
      "outputs": []
    },
    {
      "cell_type": "code",
      "source": [
        "y = one_hot_enc.transform(y1).toarray()"
      ],
      "metadata": {
        "id": "3JZs07XuwJ0E"
      },
      "execution_count": null,
      "outputs": []
    },
    {
      "cell_type": "code",
      "source": [
        "y.shape"
      ],
      "metadata": {
        "id": "fXOd9Lw5vPA0"
      },
      "execution_count": null,
      "outputs": []
    },
    {
      "cell_type": "code",
      "source": [
        "y1[0]"
      ],
      "metadata": {
        "id": "swTRKef2wkCj"
      },
      "execution_count": null,
      "outputs": []
    },
    {
      "cell_type": "code",
      "source": [
        "y[0]"
      ],
      "metadata": {
        "id": "fJp7ZZBjwmZD"
      },
      "execution_count": null,
      "outputs": []
    },
    {
      "cell_type": "code",
      "source": [
        "X.shape"
      ],
      "metadata": {
        "id": "KahHZCLk9s1T"
      },
      "execution_count": null,
      "outputs": []
    },
    {
      "cell_type": "code",
      "source": [
        "X_train,X_test,y_train,y_test=train_test_split(X,y,\n",
        "                                               test_size=0.33,\n",
        "                                               random_state=50)"
      ],
      "metadata": {
        "id": "rbfaV9m5AcFj"
      },
      "execution_count": null,
      "outputs": []
    },
    {
      "cell_type": "code",
      "source": [
        "X_train[0]"
      ],
      "metadata": {
        "id": "2_QLZBaIbauo"
      },
      "execution_count": null,
      "outputs": []
    },
    {
      "cell_type": "code",
      "source": [
        "X_train.shape"
      ],
      "metadata": {
        "id": "OIPWUbXvbmwV"
      },
      "execution_count": null,
      "outputs": []
    },
    {
      "cell_type": "code",
      "source": [
        "scaler_age = MinMaxScaler()"
      ],
      "metadata": {
        "id": "Mmjt0F9PaVfg"
      },
      "execution_count": null,
      "outputs": []
    },
    {
      "cell_type": "code",
      "source": [
        "scaler_age.fit(X_train[:,2].reshape(1, -1))"
      ],
      "metadata": {
        "id": "SsN7WvXbafRg"
      },
      "execution_count": null,
      "outputs": []
    },
    {
      "cell_type": "code",
      "source": [
        "X_train_scaled = np.copy(X_train)"
      ],
      "metadata": {
        "id": "aKDlVv9td2Pn"
      },
      "execution_count": null,
      "outputs": []
    },
    {
      "cell_type": "code",
      "source": [
        "# To scale the Age column\n",
        "X_train_scaled[:,2] = scaler_age.transform(X_train[:,2].reshape(1, -1))"
      ],
      "metadata": {
        "id": "_zLQE847alPZ"
      },
      "execution_count": null,
      "outputs": []
    },
    {
      "cell_type": "code",
      "source": [
        "# Creating the model\n",
        "ai_brain = Sequential([\n",
        "  \n",
        "])"
      ],
      "metadata": {
        "id": "6NKfQhCA9mkr"
      },
      "execution_count": null,
      "outputs": []
    },
    {
      "cell_type": "code",
      "source": [
        "ai_brain.compile(optimizer='adam',\n",
        "                 loss='categorical_crossentropy',\n",
        "                 metrics=['accuracy'])"
      ],
      "metadata": {
        "id": "3s-Vq8CP_0Ub"
      },
      "execution_count": null,
      "outputs": []
    },
    {
      "cell_type": "code",
      "source": [
        "early_stop = EarlyStopping(monitor='val_loss', patience=2)"
      ],
      "metadata": {
        "id": "Mh7yuwwEHiWB"
      },
      "execution_count": null,
      "outputs": []
    },
    {
      "cell_type": "code",
      "source": [
        "ai_brain.fit(x=X_train_scaled,y=y_train,\n",
        "             epochs=2000,batch_size=256,\n",
        "             validation_data=(X_test,y_test),\n",
        "             )"
      ],
      "metadata": {
        "id": "jmzdz5JQAYLh"
      },
      "execution_count": null,
      "outputs": []
    },
    {
      "cell_type": "code",
      "source": [
        "metrics = pd.DataFrame(ai_brain.history.history)"
      ],
      "metadata": {
        "id": "XWIYu0cVCMHi"
      },
      "execution_count": null,
      "outputs": []
    },
    {
      "cell_type": "code",
      "source": [
        "metrics.head()"
      ],
      "metadata": {
        "id": "JoK65PqSCVwA"
      },
      "execution_count": null,
      "outputs": []
    },
    {
      "cell_type": "code",
      "source": [
        "metrics[['loss','val_loss']].plot()"
      ],
      "metadata": {
        "id": "jVxfa3AjCdC6"
      },
      "execution_count": null,
      "outputs": []
    },
    {
      "cell_type": "code",
      "source": [
        "# Sequential predict_classes function is deprecated\n",
        "# predictions = ai_brain.predict_classes(X_test)\n",
        "x_test_predictions = np.argmax(ai_brain.predict(X_test), axis=-1)"
      ],
      "metadata": {
        "id": "Xj5YxQEaIHq4"
      },
      "execution_count": null,
      "outputs": []
    },
    {
      "cell_type": "code",
      "source": [
        "x_test_predictions.shape"
      ],
      "metadata": {
        "id": "XdilP28rHCvQ"
      },
      "execution_count": null,
      "outputs": []
    },
    {
      "cell_type": "code",
      "source": [
        "y_test_truevalue = np.argmax(y_test,axis=-1)"
      ],
      "metadata": {
        "id": "0vr_nvseHEyw"
      },
      "execution_count": null,
      "outputs": []
    },
    {
      "cell_type": "code",
      "source": [
        "y_test_truevalue.shape"
      ],
      "metadata": {
        "id": "HUQG_Ig3HHeh"
      },
      "execution_count": null,
      "outputs": []
    },
    {
      "cell_type": "code",
      "source": [
        "print(classification_report(y_test_truevalue,x_test_predictions))"
      ],
      "metadata": {
        "id": "Pv4c-JT1IR-o"
      },
      "execution_count": null,
      "outputs": []
    },
    {
      "cell_type": "code",
      "source": [
        "confusion_matrix(y_test_truevalue,x_test_predictions)"
      ],
      "metadata": {
        "id": "bXg_g_BiIlrQ"
      },
      "execution_count": null,
      "outputs": []
    }
  ]
}